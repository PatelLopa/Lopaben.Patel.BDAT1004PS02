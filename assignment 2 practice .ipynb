{
 "cells": [
  {
   "cell_type": "markdown",
   "id": "c1ded04b",
   "metadata": {},
   "source": [
    "question:1"
   ]
  },
  {
   "cell_type": "code",
   "execution_count": 2,
   "id": "81136be8",
   "metadata": {},
   "outputs": [],
   "source": [
    "a = 0\n",
    "\n",
    "def b():\n",
    "    global a\n",
    "    a = c(a)\n",
    "\n",
    "def c(a):\n",
    "    return a + 2\n",
    "\n"
   ]
  },
  {
   "cell_type": "code",
   "execution_count": 3,
   "id": "fd86169c",
   "metadata": {},
   "outputs": [
    {
     "data": {
      "text/plain": [
       "6"
      ]
     },
     "execution_count": 3,
     "metadata": {},
     "output_type": "execute_result"
    }
   ],
   "source": [
    " b()\n",
    " b()\n",
    " b()\n",
    " a\n",
    "\n"
   ]
  },
  {
   "cell_type": "markdown",
   "id": "a9e3c4ae",
   "metadata": {},
   "source": [
    "(1) a is initialised to 0 here in step 1 of the process. \n",
    "(2) the function b() was defined.\n",
    "(3) Next, we defined global a, which signifies that 'a' is a global variable and may be used by any class to carry out an           action. \n",
    "(4) The line a = c(a) in b() gets executed on the first call. The current value of a (which is 0) is used to run the function       c(a), which adds 2 to it and returns the result as 2.\n",
    "(5) In the following step, the global variable a is given this value. a is now 2 as a result. \n",
    "(6) Now, in the second call of b(), the line a = c(a) is executed but the function c(a) gets the current value, which is 2,         adds 2 to it and then returns 4; this gives us a value of 4.\n",
    "(7) In the 3rd call of b() with the same processor we get the value of a=6.\n",
    "\n"
   ]
  },
  {
   "cell_type": "markdown",
   "id": "bc9f269a",
   "metadata": {},
   "source": [
    "question:2"
   ]
  },
  {
   "cell_type": "code",
   "execution_count": 2,
   "id": "76006bf7",
   "metadata": {},
   "outputs": [
    {
     "data": {
      "text/plain": [
       "123"
      ]
     },
     "execution_count": 2,
     "metadata": {},
     "output_type": "execute_result"
    }
   ],
   "source": [
    "def file_length(file_name):\n",
    "    try:\n",
    "                                       \n",
    "        infile = open(file_name)\n",
    "        contents = infile.read()\n",
    "        infile.close()\n",
    "        return len(contents)\n",
    "    except:\n",
    "        print(\"File \" + file_name + \" not found.\")\n",
    "    \n",
    "\n",
    "file_length(\"Filelength.txt\")"
   ]
  },
  {
   "cell_type": "markdown",
   "id": "22b367e1",
   "metadata": {},
   "source": [
    "question:3"
   ]
  },
  {
   "cell_type": "code",
   "execution_count": 3,
   "id": "d6c5a590",
   "metadata": {},
   "outputs": [
    {
     "name": "stdout",
     "output_type": "stream",
     "text": [
      "I am a Kangaroo located at coordinates (0,0)\n",
      "['doll', 'firetruck', 'kitten']\n",
      "I am a Kangaroo located at coordinates (3,0)\n"
     ]
    }
   ],
   "source": [
    "class Marsupial:               #defined class Marsupial\n",
    "   \n",
    "    XYZ = []\n",
    "    \n",
    "    def put_in_pouch(self, item):\n",
    "        self.XYZ.append(item)\n",
    "        \n",
    "    def pouch_contents(self):\n",
    "        print(self.XYZ)\n",
    "        \n",
    "    \n",
    "class Kangaroo(Marsupial):     #subclass\n",
    "   \n",
    "    def __init__(self, x, y):  #extends the Marsupial __init__ \n",
    "        self.x = x\n",
    "        self.y = y\n",
    "        \n",
    "    def jump(self, dx, dy):    # used jump\n",
    "        self.x+= dx\n",
    "        self.y+= dy\n",
    "        \n",
    "    def __str__(self):        # overloads __str__\n",
    "         return f\"I am a Kangaroo located at coordinates ({self.x},{self.y})\"\n",
    "\n",
    "        \n",
    "        \n",
    "C=Kangaroo(0,0)\n",
    "print(C)\n",
    "C.put_in_pouch('doll')\n",
    "C.put_in_pouch('firetruck')\n",
    "C.put_in_pouch('kitten')\n",
    "C.pouch_contents()\n",
    "C.jump(1,0)\n",
    "C.jump(1,0)\n",
    "C.jump(1,0)\n",
    "print(C)    # Output: I am a Kangaroo located at coordinates (3,0)\n"
   ]
  },
  {
   "cell_type": "markdown",
   "id": "0d4f8b8c",
   "metadata": {},
   "source": [
    "question 4"
   ]
  },
  {
   "cell_type": "code",
   "execution_count": 2,
   "id": "2163e255",
   "metadata": {},
   "outputs": [
    {
     "name": "stdout",
     "output_type": "stream",
     "text": [
      "enter num:1\n",
      "1\n",
      "enter num:10\n",
      "10\n",
      "5\n",
      "16\n",
      "8\n",
      "4\n",
      "2\n",
      "1\n"
     ]
    }
   ],
   "source": [
    "def collatz(x):\n",
    "    print(x)\n",
    "    while x != 1:\n",
    "        \n",
    "        if x % 2 == 0:\n",
    "            x = x // 2\n",
    "        else:\n",
    "            x = 3*x + 1\n",
    "        print(x)\n",
    "Num1 = int(input(\"enter num:\"))\n",
    "collatz(Num1)\n",
    "Num2 = int(input(\"enter num:\"))\n",
    "collatz(Num2)"
   ]
  },
  {
   "cell_type": "markdown",
   "id": "0b69f61d",
   "metadata": {},
   "source": [
    "question :5"
   ]
  },
  {
   "cell_type": "code",
   "execution_count": 3,
   "id": "8e05284c",
   "metadata": {},
   "outputs": [
    {
     "name": "stdout",
     "output_type": "stream",
     "text": [
      "Enter a number : 9\n"
     ]
    },
    {
     "data": {
      "text/plain": [
       "'1001'"
      ]
     },
     "execution_count": 3,
     "metadata": {},
     "output_type": "execute_result"
    }
   ],
   "source": [
    "def binary(a):\n",
    "    if a == 0:\n",
    "        return  '0'\n",
    "    elif a == 1:\n",
    "        return  '1'\n",
    "    else:\n",
    "        return binary(a // 2) + str(a % 2)\n",
    "a = int(input(\"Enter a number : \"))\n",
    "binary(a)"
   ]
  },
  {
   "cell_type": "markdown",
   "id": "1e5dffe7",
   "metadata": {},
   "source": [
    "question :6"
   ]
  },
  {
   "cell_type": "code",
   "execution_count": 18,
   "id": "3376c40d",
   "metadata": {},
   "outputs": [
    {
     "name": "stdout",
     "output_type": "stream",
     "text": [
      "\n",
      " \n",
      " \n",
      " \n",
      " Change_me\n",
      " \n",
      " \n",
      " \n",
      " \n",
      "\n",
      "\n",
      " W3C Mission\n",
      "\n",
      " Principles\n",
      "\n",
      "\n"
     ]
    }
   ],
   "source": [
    "from html.parser import HTMLParser\n",
    "\n",
    "class HeadingParser(HTMLParser):    \n",
    "    def __init__(self):\n",
    "        super().__init__()\n",
    "        self.ABC = []\n",
    "\n",
    "    def handle_starttag(self, x, y): \n",
    "        if x.startswith('h'):\n",
    "            self.ABC.append(x)   \n",
    "\n",
    "    def handle_data(self, D):     \n",
    "        if self.ABC:   \n",
    "            print(' ' * (len(self.ABC) - 1)  + D.strip()) \n",
    "\n",
    "    def handle_endtag(self, x):\n",
    "        if x.startswith('h'):\n",
    "            self.ABC.pop()\n",
    "    def print_headings(self):\n",
    "        for level,heading in self.ABC:\n",
    "            print(''*level+heading)\n",
    "\n",
    "inFile = open('w3c.html')\n",
    "content = inFile.read()\n",
    "inFile.close()\n",
    "hp= HeadingParser()\n",
    "hp.feed(content)\n",
    "hp.print_headings()"
   ]
  },
  {
   "cell_type": "markdown",
   "id": "4d147f51",
   "metadata": {},
   "source": [
    "question:7"
   ]
  },
  {
   "cell_type": "code",
   "execution_count": 7,
   "id": "77f368d7",
   "metadata": {},
   "outputs": [],
   "source": [
    "import requests\n",
    "from bs4 import BeautifulSoup\n",
    "\n",
    "\n",
    "def webdir(url, depth, indent):\n",
    "    if depth < 0:\n",
    "        return\n",
    "\n",
    "    response = requests.get(url)\n",
    "    soup = BeautifulSoup(response.content, 'html.parser')\n",
    "\n",
    "    print(' ' * indent + url)\n",
    "\n",
    "    if depth == 0:\n",
    "        return\n",
    "\n",
    "    links = soup.find_all('a')\n",
    "    for link in links:\n",
    "        href = link.get('href')\n",
    "        if href.startswith('http'):\n",
    "            webdir(href, depth - 1, indent + 1)\n"
   ]
  },
  {
   "cell_type": "code",
   "execution_count": 8,
   "id": "b4e1e1e1",
   "metadata": {},
   "outputs": [
    {
     "name": "stdout",
     "output_type": "stream",
     "text": [
      "http://reed.cs.depaul.edu/lperkovic/csc242/test1.html\n"
     ]
    }
   ],
   "source": [
    "webdir('http://reed.cs.depaul.edu/lperkovic/csc242/test1.html', 2, 0)\n"
   ]
  },
  {
   "cell_type": "code",
   "execution_count": 9,
   "id": "ce381cb4",
   "metadata": {},
   "outputs": [
    {
     "name": "stdout",
     "output_type": "stream",
     "text": [
      "http://reed.cs.depaul.edu/lperkovic/csc242/test2.html\n"
     ]
    }
   ],
   "source": [
    "webdir('http://reed.cs.depaul.edu/lperkovic/csc242/test2.html', 2, 0)\n"
   ]
  },
  {
   "cell_type": "code",
   "execution_count": 14,
   "id": "0f970c98",
   "metadata": {},
   "outputs": [
    {
     "name": "stdout",
     "output_type": "stream",
     "text": [
      "http://reed.cs.depaul.edu/lperkovic/csc242/test3.html\n"
     ]
    }
   ],
   "source": [
    "webdir('http://reed.cs.depaul.edu/lperkovic/csc242/test3.html', 2, 0)"
   ]
  },
  {
   "cell_type": "code",
   "execution_count": 15,
   "id": "a0d94cc6",
   "metadata": {},
   "outputs": [
    {
     "name": "stdout",
     "output_type": "stream",
     "text": [
      "http://reed.cs.depaul.edu/lperkovic/csc242/test4.html\n"
     ]
    }
   ],
   "source": [
    "webdir('http://reed.cs.depaul.edu/lperkovic/csc242/test4.html', 2, 0)"
   ]
  },
  {
   "cell_type": "markdown",
   "id": "9b5e1186",
   "metadata": {},
   "source": [
    "question:8"
   ]
  },
  {
   "cell_type": "code",
   "execution_count": 19,
   "id": "c0c62b27",
   "metadata": {},
   "outputs": [],
   "source": [
    "import sqlite3                    \n",
    "X=sqlite3.connect(\"LSPatel.db\")               # Connect to the database (create it if it doesn't exist)\n",
    "Y = X.cursor()\n",
    "Y.execute(\"CREATE TABLE IF NOT EXISTS mytable(city text, country text, season text, temperature double, rainfall double)\")\n",
    "                                               # Create a table\n",
    "\n",
    "Y.execute(\"INSERT INTO mytable VALUES ('Mumbai','India','Winter',24.8 ,5.9)\")           # Insert some data into the table\n",
    "Y.execute(\"INSERT INTO mytable VALUES ('Mumbai','India','Spring',28.4 ,16.2)\")\n",
    "Y.execute(\"INSERT INTO mytable VALUES ('Mumbai','India','Summer',27.9 ,1549.4)\")\n",
    "Y.execute(\"INSERT INTO mytable VALUES ('Mumbai','India','Fall', 27.6 ,346.0)\")\n",
    "Y.execute(\"INSERT INTO mytable VALUES ('London','United Kingdom','Winter',4.2 ,207.7)\")\n",
    "Y.execute(\"INSERT INTO mytable VALUES ('London','United Kingdom','Spring',8.3 ,169.6)\")\n",
    "Y.execute(\"INSERT INTO mytable VALUES ('London','United Kingdom', 'Summer',15.7 ,157.0)\")\n",
    "Y.execute(\"INSERT INTO mytable VALUES ('London','United Kingdom','Fall',10.4 ,218.5)\")\n",
    "Y.execute(\"INSERT INTO mytable VALUES ('Cairo', 'Egypt', 'Winter', 13.6 ,16.5)\")\n",
    "Y.execute(\"INSERT INTO mytable VALUES ('Cairo', 'Egypt', 'Spring', 20.7 ,6.5)\")\n",
    "Y.execute(\"INSERT INTO mytable VALUES ('Cairo', 'Egypt', 'Summer', 27.7 ,0.1)\")\n",
    "Y.execute(\"INSERT INTO mytable VALUES ('Cairo', 'Egypt', 'Fall', 22.2 ,4.5)\")\n",
    "X.commit()                             # Commit the changes"
   ]
  },
  {
   "cell_type": "code",
   "execution_count": 20,
   "id": "91609310",
   "metadata": {},
   "outputs": [
    {
     "name": "stdout",
     "output_type": "stream",
     "text": [
      "('Mumbai', 'India', 'Winter', 24.8, 5.9)\n",
      "('Mumbai', 'India', 'Spring', 28.4, 16.2)\n",
      "('Mumbai', 'India', 'Summer', 27.9, 1549.4)\n",
      "('Mumbai', 'India', 'Fall', 27.6, 346.0)\n",
      "('London', 'United Kingdom', 'Winter', 4.2, 207.7)\n",
      "('London', 'United Kingdom', 'Spring', 8.3, 169.6)\n",
      "('London', 'United Kingdom', 'Summer', 15.7, 157.0)\n",
      "('London', 'United Kingdom', 'Fall', 10.4, 218.5)\n",
      "('Cairo', 'Egypt', 'Winter', 13.6, 16.5)\n",
      "('Cairo', 'Egypt', 'Spring', 20.7, 6.5)\n",
      "('Cairo', 'Egypt', 'Summer', 27.7, 0.1)\n",
      "('Cairo', 'Egypt', 'Fall', 22.2, 4.5)\n"
     ]
    }
   ],
   "source": [
    "### a) All the temperature data.###\n",
    "\n",
    "Y.execute(\"SELECT * from mytable\")\n",
    "\n",
    "for record in Y:\n",
    "    print(record)"
   ]
  },
  {
   "cell_type": "code",
   "execution_count": 21,
   "id": "8b8b1134",
   "metadata": {},
   "outputs": [
    {
     "name": "stdout",
     "output_type": "stream",
     "text": [
      "Mumbai\n",
      "London\n",
      "Cairo\n"
     ]
    }
   ],
   "source": [
    "### b) All the cities, but without repetition.###\n",
    "\n",
    "Y.execute(\"SELECT DISTINCT city FROM mytable\")\n",
    "\n",
    "for record in Y:\n",
    "    print(record[0])"
   ]
  },
  {
   "cell_type": "code",
   "execution_count": 22,
   "id": "cec044f9",
   "metadata": {},
   "outputs": [
    {
     "name": "stdout",
     "output_type": "stream",
     "text": [
      "('Mumbai', 'India', 'Winter', 24.8, 5.9)\n",
      "('Mumbai', 'India', 'Spring', 28.4, 16.2)\n",
      "('Mumbai', 'India', 'Summer', 27.9, 1549.4)\n",
      "('Mumbai', 'India', 'Fall', 27.6, 346.0)\n"
     ]
    }
   ],
   "source": [
    "### c) All the records for India.###\n",
    "\n",
    "Y.execute(\"SELECT * FROM mytable WHERE Country = 'India'\")\n",
    "\n",
    "for record in Y:\n",
    "    print(record)"
   ]
  },
  {
   "cell_type": "code",
   "execution_count": 23,
   "id": "d33183af",
   "metadata": {},
   "outputs": [
    {
     "name": "stdout",
     "output_type": "stream",
     "text": [
      "('Mumbai', 'India', 'Fall', 27.6, 346.0)\n",
      "('London', 'United Kingdom', 'Fall', 10.4, 218.5)\n",
      "('Cairo', 'Egypt', 'Fall', 22.2, 4.5)\n"
     ]
    }
   ],
   "source": [
    "### d) All the Fall records.###\n",
    "\n",
    "Y.execute(\"SELECT * FROM mytable WHERE Season = 'Fall'\")\n",
    "\n",
    "for record in Y:\n",
    "    print(record)"
   ]
  },
  {
   "cell_type": "code",
   "execution_count": 24,
   "id": "61e529f8",
   "metadata": {},
   "outputs": [
    {
     "name": "stdout",
     "output_type": "stream",
     "text": [
      "('London', 'United Kingdom', 'Fall')\n",
      "('London', 'United Kingdom', 'Winter')\n",
      "('Mumbai', 'India', 'Fall')\n"
     ]
    }
   ],
   "source": [
    "### e) The city, country, and season for which the average rainfall is between 200 and 400 millimeters.###\n",
    "\n",
    "Y.execute(\"SELECT city, country, season FROM mytable Group by city, country, season  having AVG(rainfall) BETWEEN 200 AND 400\")\n",
    "\n",
    "for record in Y:\n",
    "    print(record)"
   ]
  },
  {
   "cell_type": "code",
   "execution_count": 25,
   "id": "bbdeb6b2",
   "metadata": {},
   "outputs": [
    {
     "name": "stdout",
     "output_type": "stream",
     "text": [
      "27.6\n"
     ]
    }
   ],
   "source": [
    "### f) The city and country for which the average Fall temperature is above 20 degrees, in increasing temperature order.###\n",
    "\n",
    "Y.execute(\"SELECT SUM(rainfall) AS total_rainfall FROM mytable where City = 'Cairo' \")\n",
    "\n",
    "for record in Y:\n",
    "    print(record[0])"
   ]
  },
  {
   "cell_type": "code",
   "execution_count": 26,
   "id": "1e717148",
   "metadata": {},
   "outputs": [
    {
     "name": "stdout",
     "output_type": "stream",
     "text": [
      "569.0\n",
      "192.29999999999998\n",
      "1706.5\n",
      "230.1\n"
     ]
    }
   ],
   "source": [
    "### g) The total annual rainfall for Cairo.###\n",
    "\n",
    "Y.execute(\"SELECT SUM(Rainfall) FROM mytable GROUP BY Season\")\n",
    "\n",
    "for record in Y:\n",
    "    print(record[0])"
   ]
  },
  {
   "cell_type": "code",
   "execution_count": 27,
   "id": "11585a30",
   "metadata": {},
   "outputs": [
    {
     "name": "stdout",
     "output_type": "stream",
     "text": [
      "569.0\n",
      "192.29999999999998\n",
      "1706.5\n",
      "230.1\n"
     ]
    }
   ],
   "source": [
    "### h) The total rainfall for each season.###\n",
    "\n",
    "Y.execute(\"SELECT SUM(rainfall) AS total_rainfall FROM mytable GROUP BY season\")\n",
    "\n",
    "for record in Y:\n",
    "    print(record[0])"
   ]
  },
  {
   "cell_type": "markdown",
   "id": "6e4435fd",
   "metadata": {},
   "source": [
    "question:9"
   ]
  },
  {
   "cell_type": "code",
   "execution_count": 32,
   "id": "056db78c",
   "metadata": {},
   "outputs": [
    {
     "name": "stdout",
     "output_type": "stream",
     "text": [
      "['THE', 'QUICK', 'BROWN', 'FOX', 'JUMPS', 'OVER', 'THE', 'LAZY', 'DOG'] \n",
      "\n",
      "\n",
      "['the', 'quick', 'brown', 'fox', 'jumps', 'over', 'the', 'lazy', 'dog'] \n",
      "\n",
      "\n",
      "[3, 5, 5, 3, 5, 4, 3, 4, 3] \n",
      "\n",
      "\n",
      "[['THE', 'the', 3], ['QUICK', 'quick', 5], ['BROWN', 'brown', 5], ['FOX', 'fox', 3], ['JUMPS', 'jumps', 5], ['OVER', 'over', 4], ['THE', 'the', 3], ['LAZY', 'lazy', 4], ['DOG', 'dog', 3]] \n",
      "\n",
      "\n",
      "['quick', 'brown', 'jumps', 'over', 'lazy'] \n",
      "\n",
      "\n"
     ]
    }
   ],
   "source": [
    "words = ['The', 'quick', 'brown', 'fox', 'jumps', 'over', 'the', 'lazy', 'dog']\n",
    "##    a   ##\n",
    "upper_word = [word.upper() for word in words]\n",
    "##    b   ##\n",
    "lower_word = [word.lower() for word in words]\n",
    "##    c   ##\n",
    "word_length = [len(word) for word in words]\n",
    "##    d   ##\n",
    "word_infolist = [[word.upper(), word.lower(), len(word)] for word in words]\n",
    "##    e   ##\n",
    "long_words = [word for word in words if len(word) >= 4]\n",
    "\n",
    "print(upper_word,\"\\n\\n\")\n",
    "print(lower_word,\"\\n\\n\")\n",
    "print(word_length,\"\\n\\n\")\n",
    "print(word_infolist,\"\\n\\n\")\n",
    "print(long_words,\"\\n\\n\")"
   ]
  },
  {
   "cell_type": "code",
   "execution_count": null,
   "id": "17dd311b",
   "metadata": {},
   "outputs": [],
   "source": []
  }
 ],
 "metadata": {
  "kernelspec": {
   "display_name": "Python 3 (ipykernel)",
   "language": "python",
   "name": "python3"
  },
  "language_info": {
   "codemirror_mode": {
    "name": "ipython",
    "version": 3
   },
   "file_extension": ".py",
   "mimetype": "text/x-python",
   "name": "python",
   "nbconvert_exporter": "python",
   "pygments_lexer": "ipython3",
   "version": "3.10.9"
  }
 },
 "nbformat": 4,
 "nbformat_minor": 5
}
